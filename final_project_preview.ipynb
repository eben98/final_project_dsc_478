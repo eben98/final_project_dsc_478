{
 "cells": [
  {
   "cell_type": "code",
   "execution_count": 35,
   "id": "7343ef79-04f8-4476-ae9b-c464cf7816a2",
   "metadata": {},
   "outputs": [],
   "source": [
    "import os\n",
    "import numpy as np\n",
    "import pandas as pd"
   ]
  },
  {
   "cell_type": "code",
   "execution_count": 36,
   "id": "5bdf5a04-3d57-4f5b-bb07-33b9951a1ed6",
   "metadata": {
    "tags": []
   },
   "outputs": [
    {
     "data": {
      "text/plain": [
       "'C:\\\\Users\\\\ebene\\\\DSC478_Code_files\\\\Final Project'"
      ]
     },
     "execution_count": 36,
     "metadata": {},
     "output_type": "execute_result"
    }
   ],
   "source": [
    "pwd"
   ]
  },
  {
   "cell_type": "code",
   "execution_count": 37,
   "id": "58d2eccd-c874-409f-a47b-51fed958e4fa",
   "metadata": {
    "tags": []
   },
   "outputs": [
    {
     "name": "stdout",
     "output_type": "stream",
     "text": [
      "C:\\Users\\ebene\\DSC478_Code_files\\Final Project\n"
     ]
    }
   ],
   "source": [
    "csv_folder = os.getcwd()\n",
    "print(csv_folder)"
   ]
  },
  {
   "cell_type": "code",
   "execution_count": 38,
   "id": "8d2ced5b-4a91-414c-942c-1ee10e39df12",
   "metadata": {
    "tags": []
   },
   "outputs": [
    {
     "name": "stdout",
     "output_type": "stream",
     "text": [
      "Successfully merged 6 CSV files into Final_food_data_merged.csv\n"
     ]
    }
   ],
   "source": [
    "# Get a list of all CSV files in the current directory\n",
    "csv_files = [file for file in os.listdir(csv_folder) if file.endswith(\".csv\")]\n",
    "\n",
    "# Merge CSV files\n",
    "df_list = [pd.read_csv(file) for file in csv_files]  # Read each CSV\n",
    "merged_df = pd.concat(df_list, ignore_index=True)  # Merge into one DataFrame\n",
    "\n",
    "# Save to a new CSV file\n",
    "output_file = \"Final_food_data_merged.csv\"\n",
    "merged_df.to_csv(output_file, index=False)\n",
    "\n",
    "print(f\"Successfully merged {len(csv_files)} CSV files into {output_file}\")"
   ]
  },
  {
   "cell_type": "code",
   "execution_count": 39,
   "id": "44669c50-bc76-4075-b9f0-7ec9dd14306f",
   "metadata": {
    "tags": []
   },
   "outputs": [],
   "source": [
    "# Read the merged data\n",
    "food_data = pd.read_csv(\"Final_food_data_merged.csv\")"
   ]
  },
  {
   "cell_type": "code",
   "execution_count": 40,
   "id": "2985f05b-f576-4047-b89b-47b3e0191cd2",
   "metadata": {
    "tags": []
   },
   "outputs": [
    {
     "data": {
      "text/plain": [
       "(7185, 37)"
      ]
     },
     "execution_count": 40,
     "metadata": {},
     "output_type": "execute_result"
    }
   ],
   "source": [
    "food_data.shape"
   ]
  },
  {
   "cell_type": "code",
   "execution_count": 41,
   "id": "956a3c98-6aad-465d-af9c-85af84349681",
   "metadata": {
    "tags": []
   },
   "outputs": [
    {
     "data": {
      "text/html": [
       "<div>\n",
       "<style scoped>\n",
       "    .dataframe tbody tr th:only-of-type {\n",
       "        vertical-align: middle;\n",
       "    }\n",
       "\n",
       "    .dataframe tbody tr th {\n",
       "        vertical-align: top;\n",
       "    }\n",
       "\n",
       "    .dataframe thead th {\n",
       "        text-align: right;\n",
       "    }\n",
       "</style>\n",
       "<table border=\"1\" class=\"dataframe\">\n",
       "  <thead>\n",
       "    <tr style=\"text-align: right;\">\n",
       "      <th></th>\n",
       "      <th>Unnamed: 0.1</th>\n",
       "      <th>Unnamed: 0</th>\n",
       "      <th>food</th>\n",
       "      <th>Caloric Value</th>\n",
       "      <th>Fat</th>\n",
       "      <th>Saturated Fats</th>\n",
       "      <th>Monounsaturated Fats</th>\n",
       "      <th>Polyunsaturated Fats</th>\n",
       "      <th>Carbohydrates</th>\n",
       "      <th>Sugars</th>\n",
       "      <th>...</th>\n",
       "      <th>Calcium</th>\n",
       "      <th>Copper</th>\n",
       "      <th>Iron</th>\n",
       "      <th>Magnesium</th>\n",
       "      <th>Manganese</th>\n",
       "      <th>Phosphorus</th>\n",
       "      <th>Potassium</th>\n",
       "      <th>Selenium</th>\n",
       "      <th>Zinc</th>\n",
       "      <th>Nutrition Density</th>\n",
       "    </tr>\n",
       "  </thead>\n",
       "  <tbody>\n",
       "    <tr>\n",
       "      <th>0</th>\n",
       "      <td>0</td>\n",
       "      <td>0</td>\n",
       "      <td>cream cheese</td>\n",
       "      <td>51</td>\n",
       "      <td>5.0</td>\n",
       "      <td>2.9</td>\n",
       "      <td>1.300</td>\n",
       "      <td>0.200</td>\n",
       "      <td>0.8</td>\n",
       "      <td>0.500</td>\n",
       "      <td>...</td>\n",
       "      <td>0.008</td>\n",
       "      <td>14.100</td>\n",
       "      <td>0.082</td>\n",
       "      <td>0.027</td>\n",
       "      <td>1.300</td>\n",
       "      <td>0.091</td>\n",
       "      <td>15.5</td>\n",
       "      <td>19.100</td>\n",
       "      <td>0.039</td>\n",
       "      <td>7.070</td>\n",
       "    </tr>\n",
       "    <tr>\n",
       "      <th>1</th>\n",
       "      <td>1</td>\n",
       "      <td>1</td>\n",
       "      <td>neufchatel cheese</td>\n",
       "      <td>215</td>\n",
       "      <td>19.4</td>\n",
       "      <td>10.9</td>\n",
       "      <td>4.900</td>\n",
       "      <td>0.800</td>\n",
       "      <td>3.1</td>\n",
       "      <td>2.700</td>\n",
       "      <td>...</td>\n",
       "      <td>99.500</td>\n",
       "      <td>0.034</td>\n",
       "      <td>0.100</td>\n",
       "      <td>8.500</td>\n",
       "      <td>0.088</td>\n",
       "      <td>117.300</td>\n",
       "      <td>129.2</td>\n",
       "      <td>0.054</td>\n",
       "      <td>0.700</td>\n",
       "      <td>130.100</td>\n",
       "    </tr>\n",
       "    <tr>\n",
       "      <th>2</th>\n",
       "      <td>2</td>\n",
       "      <td>2</td>\n",
       "      <td>requeijao cremoso light catupiry</td>\n",
       "      <td>49</td>\n",
       "      <td>3.6</td>\n",
       "      <td>2.3</td>\n",
       "      <td>0.900</td>\n",
       "      <td>0.000</td>\n",
       "      <td>0.9</td>\n",
       "      <td>3.400</td>\n",
       "      <td>...</td>\n",
       "      <td>0.000</td>\n",
       "      <td>0.000</td>\n",
       "      <td>0.000</td>\n",
       "      <td>0.000</td>\n",
       "      <td>0.000</td>\n",
       "      <td>0.000</td>\n",
       "      <td>0.0</td>\n",
       "      <td>0.000</td>\n",
       "      <td>0.000</td>\n",
       "      <td>5.400</td>\n",
       "    </tr>\n",
       "    <tr>\n",
       "      <th>3</th>\n",
       "      <td>3</td>\n",
       "      <td>3</td>\n",
       "      <td>ricotta cheese</td>\n",
       "      <td>30</td>\n",
       "      <td>2.0</td>\n",
       "      <td>1.3</td>\n",
       "      <td>0.500</td>\n",
       "      <td>0.002</td>\n",
       "      <td>1.5</td>\n",
       "      <td>0.091</td>\n",
       "      <td>...</td>\n",
       "      <td>0.097</td>\n",
       "      <td>41.200</td>\n",
       "      <td>0.097</td>\n",
       "      <td>0.096</td>\n",
       "      <td>4.000</td>\n",
       "      <td>0.024</td>\n",
       "      <td>30.8</td>\n",
       "      <td>43.800</td>\n",
       "      <td>0.035</td>\n",
       "      <td>5.196</td>\n",
       "    </tr>\n",
       "    <tr>\n",
       "      <th>4</th>\n",
       "      <td>4</td>\n",
       "      <td>4</td>\n",
       "      <td>cream cheese low fat</td>\n",
       "      <td>30</td>\n",
       "      <td>2.3</td>\n",
       "      <td>1.4</td>\n",
       "      <td>0.600</td>\n",
       "      <td>0.042</td>\n",
       "      <td>1.2</td>\n",
       "      <td>0.900</td>\n",
       "      <td>...</td>\n",
       "      <td>22.200</td>\n",
       "      <td>0.072</td>\n",
       "      <td>0.008</td>\n",
       "      <td>1.200</td>\n",
       "      <td>0.098</td>\n",
       "      <td>22.800</td>\n",
       "      <td>37.1</td>\n",
       "      <td>0.034</td>\n",
       "      <td>0.053</td>\n",
       "      <td>27.007</td>\n",
       "    </tr>\n",
       "    <tr>\n",
       "      <th>5</th>\n",
       "      <td>5</td>\n",
       "      <td>5</td>\n",
       "      <td>cream cheese fat free</td>\n",
       "      <td>19</td>\n",
       "      <td>0.2</td>\n",
       "      <td>0.1</td>\n",
       "      <td>0.091</td>\n",
       "      <td>0.075</td>\n",
       "      <td>1.4</td>\n",
       "      <td>1.000</td>\n",
       "      <td>...</td>\n",
       "      <td>63.200</td>\n",
       "      <td>0.039</td>\n",
       "      <td>0.053</td>\n",
       "      <td>4.000</td>\n",
       "      <td>0.028</td>\n",
       "      <td>94.100</td>\n",
       "      <td>50.0</td>\n",
       "      <td>0.013</td>\n",
       "      <td>0.300</td>\n",
       "      <td>67.679</td>\n",
       "    </tr>\n",
       "    <tr>\n",
       "      <th>6</th>\n",
       "      <td>6</td>\n",
       "      <td>6</td>\n",
       "      <td>gruyere cheese</td>\n",
       "      <td>116</td>\n",
       "      <td>9.1</td>\n",
       "      <td>5.3</td>\n",
       "      <td>2.800</td>\n",
       "      <td>0.500</td>\n",
       "      <td>0.1</td>\n",
       "      <td>0.100</td>\n",
       "      <td>...</td>\n",
       "      <td>283.100</td>\n",
       "      <td>0.033</td>\n",
       "      <td>0.094</td>\n",
       "      <td>10.100</td>\n",
       "      <td>0.002</td>\n",
       "      <td>169.400</td>\n",
       "      <td>22.7</td>\n",
       "      <td>0.079</td>\n",
       "      <td>1.100</td>\n",
       "      <td>300.694</td>\n",
       "    </tr>\n",
       "    <tr>\n",
       "      <th>7</th>\n",
       "      <td>7</td>\n",
       "      <td>7</td>\n",
       "      <td>cheddar cheese</td>\n",
       "      <td>113</td>\n",
       "      <td>9.3</td>\n",
       "      <td>5.3</td>\n",
       "      <td>2.600</td>\n",
       "      <td>0.300</td>\n",
       "      <td>0.9</td>\n",
       "      <td>0.100</td>\n",
       "      <td>...</td>\n",
       "      <td>198.800</td>\n",
       "      <td>0.099</td>\n",
       "      <td>0.077</td>\n",
       "      <td>7.600</td>\n",
       "      <td>0.063</td>\n",
       "      <td>127.400</td>\n",
       "      <td>21.3</td>\n",
       "      <td>0.009</td>\n",
       "      <td>1.000</td>\n",
       "      <td>215.530</td>\n",
       "    </tr>\n",
       "    <tr>\n",
       "      <th>8</th>\n",
       "      <td>8</td>\n",
       "      <td>8</td>\n",
       "      <td>parmesan cheese</td>\n",
       "      <td>71</td>\n",
       "      <td>4.5</td>\n",
       "      <td>2.7</td>\n",
       "      <td>1.400</td>\n",
       "      <td>0.100</td>\n",
       "      <td>0.6</td>\n",
       "      <td>0.046</td>\n",
       "      <td>...</td>\n",
       "      <td>213.100</td>\n",
       "      <td>0.051</td>\n",
       "      <td>0.100</td>\n",
       "      <td>7.900</td>\n",
       "      <td>0.073</td>\n",
       "      <td>124.900</td>\n",
       "      <td>16.6</td>\n",
       "      <td>0.045</td>\n",
       "      <td>0.500</td>\n",
       "      <td>224.777</td>\n",
       "    </tr>\n",
       "    <tr>\n",
       "      <th>9</th>\n",
       "      <td>9</td>\n",
       "      <td>9</td>\n",
       "      <td>romano cheese</td>\n",
       "      <td>19</td>\n",
       "      <td>1.3</td>\n",
       "      <td>0.9</td>\n",
       "      <td>0.400</td>\n",
       "      <td>0.035</td>\n",
       "      <td>0.2</td>\n",
       "      <td>0.088</td>\n",
       "      <td>...</td>\n",
       "      <td>53.200</td>\n",
       "      <td>0.046</td>\n",
       "      <td>0.030</td>\n",
       "      <td>2.100</td>\n",
       "      <td>0.002</td>\n",
       "      <td>38.000</td>\n",
       "      <td>4.3</td>\n",
       "      <td>0.087</td>\n",
       "      <td>0.100</td>\n",
       "      <td>56.380</td>\n",
       "    </tr>\n",
       "  </tbody>\n",
       "</table>\n",
       "<p>10 rows × 37 columns</p>\n",
       "</div>"
      ],
      "text/plain": [
       "   Unnamed: 0.1  Unnamed: 0                              food  Caloric Value  \\\n",
       "0             0           0                      cream cheese             51   \n",
       "1             1           1                 neufchatel cheese            215   \n",
       "2             2           2  requeijao cremoso light catupiry             49   \n",
       "3             3           3                    ricotta cheese             30   \n",
       "4             4           4              cream cheese low fat             30   \n",
       "5             5           5             cream cheese fat free             19   \n",
       "6             6           6                    gruyere cheese            116   \n",
       "7             7           7                    cheddar cheese            113   \n",
       "8             8           8                   parmesan cheese             71   \n",
       "9             9           9                     romano cheese             19   \n",
       "\n",
       "    Fat  Saturated Fats  Monounsaturated Fats  Polyunsaturated Fats  \\\n",
       "0   5.0             2.9                 1.300                 0.200   \n",
       "1  19.4            10.9                 4.900                 0.800   \n",
       "2   3.6             2.3                 0.900                 0.000   \n",
       "3   2.0             1.3                 0.500                 0.002   \n",
       "4   2.3             1.4                 0.600                 0.042   \n",
       "5   0.2             0.1                 0.091                 0.075   \n",
       "6   9.1             5.3                 2.800                 0.500   \n",
       "7   9.3             5.3                 2.600                 0.300   \n",
       "8   4.5             2.7                 1.400                 0.100   \n",
       "9   1.3             0.9                 0.400                 0.035   \n",
       "\n",
       "   Carbohydrates  Sugars  ...  Calcium  Copper   Iron  Magnesium  Manganese  \\\n",
       "0            0.8   0.500  ...    0.008  14.100  0.082      0.027      1.300   \n",
       "1            3.1   2.700  ...   99.500   0.034  0.100      8.500      0.088   \n",
       "2            0.9   3.400  ...    0.000   0.000  0.000      0.000      0.000   \n",
       "3            1.5   0.091  ...    0.097  41.200  0.097      0.096      4.000   \n",
       "4            1.2   0.900  ...   22.200   0.072  0.008      1.200      0.098   \n",
       "5            1.4   1.000  ...   63.200   0.039  0.053      4.000      0.028   \n",
       "6            0.1   0.100  ...  283.100   0.033  0.094     10.100      0.002   \n",
       "7            0.9   0.100  ...  198.800   0.099  0.077      7.600      0.063   \n",
       "8            0.6   0.046  ...  213.100   0.051  0.100      7.900      0.073   \n",
       "9            0.2   0.088  ...   53.200   0.046  0.030      2.100      0.002   \n",
       "\n",
       "   Phosphorus  Potassium  Selenium   Zinc  Nutrition Density  \n",
       "0       0.091       15.5    19.100  0.039              7.070  \n",
       "1     117.300      129.2     0.054  0.700            130.100  \n",
       "2       0.000        0.0     0.000  0.000              5.400  \n",
       "3       0.024       30.8    43.800  0.035              5.196  \n",
       "4      22.800       37.1     0.034  0.053             27.007  \n",
       "5      94.100       50.0     0.013  0.300             67.679  \n",
       "6     169.400       22.7     0.079  1.100            300.694  \n",
       "7     127.400       21.3     0.009  1.000            215.530  \n",
       "8     124.900       16.6     0.045  0.500            224.777  \n",
       "9      38.000        4.3     0.087  0.100             56.380  \n",
       "\n",
       "[10 rows x 37 columns]"
      ]
     },
     "execution_count": 41,
     "metadata": {},
     "output_type": "execute_result"
    }
   ],
   "source": [
    "food_data.head(10)"
   ]
  },
  {
   "cell_type": "code",
   "execution_count": 42,
   "id": "2a78508f-1cce-43df-97cd-cd76b19f5da2",
   "metadata": {
    "tags": []
   },
   "outputs": [
    {
     "data": {
      "text/plain": [
       "Index(['Unnamed: 0.1', 'Unnamed: 0', 'food', 'Caloric Value', 'Fat',\n",
       "       'Saturated Fats', 'Monounsaturated Fats', 'Polyunsaturated Fats',\n",
       "       'Carbohydrates', 'Sugars', 'Protein', 'Dietary Fiber', 'Cholesterol',\n",
       "       'Sodium', 'Water', 'Vitamin A', 'Vitamin B1', 'Vitamin B11',\n",
       "       'Vitamin B12', 'Vitamin B2', 'Vitamin B3', 'Vitamin B5', 'Vitamin B6',\n",
       "       'Vitamin C', 'Vitamin D', 'Vitamin E', 'Vitamin K', 'Calcium', 'Copper',\n",
       "       'Iron', 'Magnesium', 'Manganese', 'Phosphorus', 'Potassium', 'Selenium',\n",
       "       'Zinc', 'Nutrition Density'],\n",
       "      dtype='object')"
      ]
     },
     "execution_count": 42,
     "metadata": {},
     "output_type": "execute_result"
    }
   ],
   "source": [
    "food_data.columns"
   ]
  },
  {
   "cell_type": "code",
   "execution_count": 43,
   "id": "0af143e3-77d6-4708-af75-19f861e2b003",
   "metadata": {
    "tags": []
   },
   "outputs": [
    {
     "data": {
      "text/plain": [
       "Unnamed: 0.1              int64\n",
       "Unnamed: 0                int64\n",
       "food                     object\n",
       "Caloric Value             int64\n",
       "Fat                     float64\n",
       "Saturated Fats          float64\n",
       "Monounsaturated Fats    float64\n",
       "Polyunsaturated Fats    float64\n",
       "Carbohydrates           float64\n",
       "Sugars                  float64\n",
       "Protein                 float64\n",
       "Dietary Fiber           float64\n",
       "Cholesterol             float64\n",
       "Sodium                  float64\n",
       "Water                   float64\n",
       "Vitamin A               float64\n",
       "Vitamin B1              float64\n",
       "Vitamin B11             float64\n",
       "Vitamin B12             float64\n",
       "Vitamin B2              float64\n",
       "Vitamin B3              float64\n",
       "Vitamin B5              float64\n",
       "Vitamin B6              float64\n",
       "Vitamin C               float64\n",
       "Vitamin D               float64\n",
       "Vitamin E               float64\n",
       "Vitamin K               float64\n",
       "Calcium                 float64\n",
       "Copper                  float64\n",
       "Iron                    float64\n",
       "Magnesium               float64\n",
       "Manganese               float64\n",
       "Phosphorus              float64\n",
       "Potassium               float64\n",
       "Selenium                float64\n",
       "Zinc                    float64\n",
       "Nutrition Density       float64\n",
       "dtype: object"
      ]
     },
     "execution_count": 43,
     "metadata": {},
     "output_type": "execute_result"
    }
   ],
   "source": [
    "food_data.dtypes"
   ]
  },
  {
   "cell_type": "code",
   "execution_count": null,
   "id": "306f367a-1481-4c08-892b-89027366462c",
   "metadata": {},
   "outputs": [],
   "source": []
  }
 ],
 "metadata": {
  "kernelspec": {
   "display_name": "Python 3 (ipykernel)",
   "language": "python",
   "name": "python3"
  },
  "language_info": {
   "codemirror_mode": {
    "name": "ipython",
    "version": 3
   },
   "file_extension": ".py",
   "mimetype": "text/x-python",
   "name": "python",
   "nbconvert_exporter": "python",
   "pygments_lexer": "ipython3",
   "version": "3.11.5"
  }
 },
 "nbformat": 4,
 "nbformat_minor": 5
}
